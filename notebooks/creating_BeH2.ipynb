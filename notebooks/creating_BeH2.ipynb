{
 "cells": [
  {
   "cell_type": "code",
   "execution_count": null,
   "metadata": {
    "is_executing": true
   },
   "outputs": [],
   "source": [
    "import sys\n",
    "sys.path.append('../..')\n",
    "import numpy as np\n",
    "from qubap.qiskit.luciano.quantum_chemistry import BeH2"
   ]
  },
  {
   "cell_type": "code",
   "execution_count": null,
   "metadata": {
    "is_executing": true
   },
   "outputs": [],
   "source": [
    "def hamiltonian2list( ops ):\n",
    "\n",
    "    ops_strings  = []\n",
    "    coefficients = []\n",
    "\n",
    "    for pauli in ops.to_pauli_op():\n",
    "        ops_strings.append( str(pauli.primitive) )\n",
    "        coefficients.append( pauli.coeff )\n",
    "\n",
    "    return ops_strings, coefficients"
   ]
  },
  {
   "cell_type": "code",
   "execution_count": null,
   "metadata": {
    "is_executing": true
   },
   "outputs": [],
   "source": [
    "options = [ (False,[]),\n",
    "            (True, []),\n",
    "            (True, [6]),\n",
    "            (True, [3,6])\n",
    "            ]\n",
    "\n",
    "for freeze_core, remove_orbitals in options:\n",
    "\n",
    "    ops, init_state = BeH2(freeze_core=freeze_core, remove_orbitals=remove_orbitals, initial_state=True)\n",
    "    ops_strings, coefficients = hamiltonian2list( ops )\n",
    "    num_qubits = ops.num_qubits \n",
    "    dictionary = {}\n",
    "    dictionary['molecule']        = 'BeH2'\n",
    "    dictionary['freeze_core']     = freeze_core\n",
    "    dictionary['remove_orbitals'] = remove_orbitals\n",
    "    dictionary['num_qubits']      = ops.num_qubits\n",
    "    dictionary['hamiltonian']     = ( ops_strings, coefficients )\n",
    "    dictionary['initial_state']   = init_state.qasm()\n",
    "\n",
    "    np.save( 'molecule_BeH2_'+str(num_qubits), np.array([dictionary], dtype=object)   )"
   ]
  },
  {
   "cell_type": "code",
   "execution_count": null,
   "metadata": {
    "is_executing": true
   },
   "outputs": [],
   "source": [
    "ops_strings, coefficients = hamiltonian2list( ops )"
   ]
  },
  {
   "cell_type": "code",
   "execution_count": null,
   "metadata": {
    "is_executing": true
   },
   "outputs": [],
   "source": [
    "circ_str = init_state.qasm()"
   ]
  },
  {
   "cell_type": "code",
   "execution_count": null,
   "metadata": {
    "is_executing": true
   },
   "outputs": [],
   "source": [
    "from qiskit import  QuantumCircuit"
   ]
  },
  {
   "cell_type": "code",
   "execution_count": null,
   "metadata": {
    "is_executing": true
   },
   "outputs": [],
   "source": [
    "QuantumCircuit.from_qasm_str( circ_str ).draw('mpl')"
   ]
  },
  {
   "cell_type": "code",
   "execution_count": null,
   "metadata": {
    "is_executing": true
   },
   "outputs": [],
   "source": [
    "import qiskit.tools.jupyter\n",
    "%qiskit_version_table"
   ]
  }
 ],
 "metadata": {
  "kernelspec": {
   "display_name": "Python 3.9.5 ('old_qiskit_nature')",
   "language": "python",
   "name": "python3"
  },
  "language_info": {
   "codemirror_mode": {
    "name": "ipython",
    "version": 3
   },
   "file_extension": ".py",
   "mimetype": "text/x-python",
   "name": "python",
   "nbconvert_exporter": "python",
   "pygments_lexer": "ipython3",
   "version": "3.9.5"
  },
  "orig_nbformat": 4,
  "vscode": {
   "interpreter": {
    "hash": "c5f0323d7955d15863b0589734af63c8ca80c0e1bd1fd2a1b578f7c5ef3022cb"
   }
  }
 },
 "nbformat": 4,
 "nbformat_minor": 2
}
