{
 "cells": [
  {
   "cell_type": "code",
   "execution_count": 21,
   "metadata": {
    "ExecuteTime": {
     "end_time": "2024-12-03T08:20:48.988865Z",
     "start_time": "2024-12-03T08:20:48.962338Z"
    }
   },
   "outputs": [],
   "source": [
    "import sys\n",
    "sys.path.append('..')\n",
    "import numpy as np\n",
    "import matplotlib.pyplot as plt"
   ]
  },
  {
   "cell_type": "code",
   "execution_count": 22,
   "metadata": {
    "ExecuteTime": {
     "end_time": "2024-12-03T08:20:49.084372Z",
     "start_time": "2024-12-03T08:20:48.965762Z"
    }
   },
   "outputs": [
    {
     "ename": "ImportError",
     "evalue": "cannot import name 'BasicAer' from 'qiskit' (/Users/khen/repos/NNBP/venv/lib/python3.9/site-packages/qiskit/__init__.py)",
     "output_type": "error",
     "traceback": [
      "\u001B[0;31m---------------------------------------------------------------------------\u001B[0m",
      "\u001B[0;31mImportError\u001B[0m                               Traceback (most recent call last)",
      "Cell \u001B[0;32mIn[22], line 1\u001B[0m\n\u001B[0;32m----> 1\u001B[0m \u001B[38;5;28;01mfrom\u001B[39;00m \u001B[38;5;21;01mqubap\u001B[39;00m\u001B[38;5;21;01m.\u001B[39;00m\u001B[38;5;21;01mqiskit\u001B[39;00m\u001B[38;5;21;01m.\u001B[39;00m\u001B[38;5;21;01mhamiltonians\u001B[39;00m \u001B[38;5;28;01mimport\u001B[39;00m test_hamiltonian\n\u001B[1;32m      2\u001B[0m \u001B[38;5;28;01mfrom\u001B[39;00m \u001B[38;5;21;01mqubap\u001B[39;00m\u001B[38;5;21;01m.\u001B[39;00m\u001B[38;5;21;01mqiskit\u001B[39;00m\u001B[38;5;21;01m.\u001B[39;00m\u001B[38;5;21;01mvariational_algorithms\u001B[39;00m \u001B[38;5;28;01mimport\u001B[39;00m classical_solver\n",
      "File \u001B[0;32m~/repos/NNBP/qubap/qiskit/hamiltonians/__init__.py:3\u001B[0m\n\u001B[1;32m      1\u001B[0m \u001B[38;5;66;03m#!/usr/bin/env python3\u001B[39;00m\n\u001B[0;32m----> 3\u001B[0m \u001B[38;5;28;01mfrom\u001B[39;00m \u001B[38;5;21;01m.\u001B[39;00m\u001B[38;5;21;01mhamiltonians\u001B[39;00m \u001B[38;5;28;01mimport\u001B[39;00m ladder_hamiltonian, test_hamiltonian, test_hamiltonian_2\n\u001B[1;32m      4\u001B[0m \u001B[38;5;28;01mfrom\u001B[39;00m \u001B[38;5;21;01m.\u001B[39;00m\u001B[38;5;21;01mtools\u001B[39;00m \u001B[38;5;28;01mimport\u001B[39;00m parse_hamiltonian, paulistrings2hamiltonian\n",
      "File \u001B[0;32m~/repos/NNBP/qubap/qiskit/hamiltonians/hamiltonians.py:6\u001B[0m\n\u001B[1;32m      3\u001B[0m sys\u001B[38;5;241m.\u001B[39mpath\u001B[38;5;241m.\u001B[39mappend(\u001B[38;5;124m'\u001B[39m\u001B[38;5;124m../../..\u001B[39m\u001B[38;5;124m'\u001B[39m)\n\u001B[1;32m      5\u001B[0m \u001B[38;5;28;01mimport\u001B[39;00m \u001B[38;5;21;01mnumpy\u001B[39;00m \u001B[38;5;28;01mas\u001B[39;00m \u001B[38;5;21;01mnp\u001B[39;00m\n\u001B[0;32m----> 6\u001B[0m \u001B[38;5;28;01mimport\u001B[39;00m \u001B[38;5;21;01mqiskit\u001B[39;00m\u001B[38;5;21;01m.\u001B[39;00m\u001B[38;5;21;01mopflow\u001B[39;00m \u001B[38;5;28;01mas\u001B[39;00m \u001B[38;5;21;01mof\u001B[39;00m\n\u001B[1;32m      7\u001B[0m \u001B[38;5;28;01mfrom\u001B[39;00m \u001B[38;5;21;01mqiskit\u001B[39;00m\u001B[38;5;21;01m.\u001B[39;00m\u001B[38;5;21;01mquantum_info\u001B[39;00m \u001B[38;5;28;01mimport\u001B[39;00m Pauli, SparsePauliOp\n\u001B[1;32m      8\u001B[0m \u001B[38;5;28;01mfrom\u001B[39;00m \u001B[38;5;21;01mqiskit\u001B[39;00m\u001B[38;5;21;01m.\u001B[39;00m\u001B[38;5;21;01mopflow\u001B[39;00m\u001B[38;5;21;01m.\u001B[39;00m\u001B[38;5;21;01mprimitive_ops\u001B[39;00m \u001B[38;5;28;01mimport\u001B[39;00m PauliSumOp\n",
      "File \u001B[0;32m~/repos/NNBP/venv/lib/python3.9/site-packages/qiskit/opflow/__init__.py:175\u001B[0m\n\u001B[1;32m    165\u001B[0m \u001B[38;5;28;01mfrom\u001B[39;00m \u001B[38;5;21;01m.\u001B[39;00m\u001B[38;5;21;01moperator_base\u001B[39;00m \u001B[38;5;28;01mimport\u001B[39;00m OperatorBase\n\u001B[1;32m    166\u001B[0m \u001B[38;5;28;01mfrom\u001B[39;00m \u001B[38;5;21;01m.\u001B[39;00m\u001B[38;5;21;01mprimitive_ops\u001B[39;00m \u001B[38;5;28;01mimport\u001B[39;00m (\n\u001B[1;32m    167\u001B[0m     PrimitiveOp,\n\u001B[1;32m    168\u001B[0m     PauliOp,\n\u001B[0;32m   (...)\u001B[0m\n\u001B[1;32m    173\u001B[0m     Z2Symmetries,\n\u001B[1;32m    174\u001B[0m )\n\u001B[0;32m--> 175\u001B[0m \u001B[38;5;28;01mfrom\u001B[39;00m \u001B[38;5;21;01m.\u001B[39;00m\u001B[38;5;21;01mstate_fns\u001B[39;00m \u001B[38;5;28;01mimport\u001B[39;00m (\n\u001B[1;32m    176\u001B[0m     StateFn,\n\u001B[1;32m    177\u001B[0m     DictStateFn,\n\u001B[1;32m    178\u001B[0m     VectorStateFn,\n\u001B[1;32m    179\u001B[0m     CVaRMeasurement,\n\u001B[1;32m    180\u001B[0m     CircuitStateFn,\n\u001B[1;32m    181\u001B[0m     OperatorStateFn,\n\u001B[1;32m    182\u001B[0m     SparseVectorStateFn,\n\u001B[1;32m    183\u001B[0m )\n\u001B[1;32m    184\u001B[0m \u001B[38;5;28;01mfrom\u001B[39;00m \u001B[38;5;21;01m.\u001B[39;00m\u001B[38;5;21;01mlist_ops\u001B[39;00m \u001B[38;5;28;01mimport\u001B[39;00m ListOp, SummedOp, ComposedOp, TensoredOp\n\u001B[1;32m    185\u001B[0m \u001B[38;5;28;01mfrom\u001B[39;00m \u001B[38;5;21;01m.\u001B[39;00m\u001B[38;5;21;01mconverters\u001B[39;00m \u001B[38;5;28;01mimport\u001B[39;00m (\n\u001B[1;32m    186\u001B[0m     ConverterBase,\n\u001B[1;32m    187\u001B[0m     CircuitSampler,\n\u001B[0;32m   (...)\u001B[0m\n\u001B[1;32m    191\u001B[0m     TwoQubitReduction,\n\u001B[1;32m    192\u001B[0m )\n",
      "File \u001B[0;32m~/repos/NNBP/venv/lib/python3.9/site-packages/qiskit/opflow/state_fns/__init__.py:65\u001B[0m\n\u001B[1;32m     63\u001B[0m \u001B[38;5;28;01mfrom\u001B[39;00m \u001B[38;5;21;01m.\u001B[39;00m\u001B[38;5;21;01mstate_fn\u001B[39;00m \u001B[38;5;28;01mimport\u001B[39;00m StateFn\n\u001B[1;32m     64\u001B[0m \u001B[38;5;28;01mfrom\u001B[39;00m \u001B[38;5;21;01m.\u001B[39;00m\u001B[38;5;21;01mdict_state_fn\u001B[39;00m \u001B[38;5;28;01mimport\u001B[39;00m DictStateFn\n\u001B[0;32m---> 65\u001B[0m \u001B[38;5;28;01mfrom\u001B[39;00m \u001B[38;5;21;01m.\u001B[39;00m\u001B[38;5;21;01moperator_state_fn\u001B[39;00m \u001B[38;5;28;01mimport\u001B[39;00m OperatorStateFn\n\u001B[1;32m     66\u001B[0m \u001B[38;5;28;01mfrom\u001B[39;00m \u001B[38;5;21;01m.\u001B[39;00m\u001B[38;5;21;01mvector_state_fn\u001B[39;00m \u001B[38;5;28;01mimport\u001B[39;00m VectorStateFn\n\u001B[1;32m     67\u001B[0m \u001B[38;5;28;01mfrom\u001B[39;00m \u001B[38;5;21;01m.\u001B[39;00m\u001B[38;5;21;01msparse_vector_state_fn\u001B[39;00m \u001B[38;5;28;01mimport\u001B[39;00m SparseVectorStateFn\n",
      "File \u001B[0;32m~/repos/NNBP/venv/lib/python3.9/site-packages/qiskit/opflow/state_fns/operator_state_fn.py:27\u001B[0m\n\u001B[1;32m     25\u001B[0m \u001B[38;5;28;01mfrom\u001B[39;00m \u001B[38;5;21;01mqiskit\u001B[39;00m\u001B[38;5;21;01m.\u001B[39;00m\u001B[38;5;21;01mopflow\u001B[39;00m\u001B[38;5;21;01m.\u001B[39;00m\u001B[38;5;21;01mprimitive_ops\u001B[39;00m\u001B[38;5;21;01m.\u001B[39;00m\u001B[38;5;21;01mpauli_sum_op\u001B[39;00m \u001B[38;5;28;01mimport\u001B[39;00m PauliSumOp\n\u001B[1;32m     26\u001B[0m \u001B[38;5;28;01mfrom\u001B[39;00m \u001B[38;5;21;01mqiskit\u001B[39;00m\u001B[38;5;21;01m.\u001B[39;00m\u001B[38;5;21;01mopflow\u001B[39;00m\u001B[38;5;21;01m.\u001B[39;00m\u001B[38;5;21;01mstate_fns\u001B[39;00m\u001B[38;5;21;01m.\u001B[39;00m\u001B[38;5;21;01mstate_fn\u001B[39;00m \u001B[38;5;28;01mimport\u001B[39;00m StateFn\n\u001B[0;32m---> 27\u001B[0m \u001B[38;5;28;01mfrom\u001B[39;00m \u001B[38;5;21;01mqiskit\u001B[39;00m\u001B[38;5;21;01m.\u001B[39;00m\u001B[38;5;21;01mopflow\u001B[39;00m\u001B[38;5;21;01m.\u001B[39;00m\u001B[38;5;21;01mstate_fns\u001B[39;00m\u001B[38;5;21;01m.\u001B[39;00m\u001B[38;5;21;01mcircuit_state_fn\u001B[39;00m \u001B[38;5;28;01mimport\u001B[39;00m CircuitStateFn\n\u001B[1;32m     28\u001B[0m \u001B[38;5;28;01mfrom\u001B[39;00m \u001B[38;5;21;01mqiskit\u001B[39;00m\u001B[38;5;21;01m.\u001B[39;00m\u001B[38;5;21;01mquantum_info\u001B[39;00m \u001B[38;5;28;01mimport\u001B[39;00m Statevector\n\u001B[1;32m     29\u001B[0m \u001B[38;5;28;01mfrom\u001B[39;00m \u001B[38;5;21;01mqiskit\u001B[39;00m\u001B[38;5;21;01m.\u001B[39;00m\u001B[38;5;21;01mutils\u001B[39;00m\u001B[38;5;21;01m.\u001B[39;00m\u001B[38;5;21;01mdeprecation\u001B[39;00m \u001B[38;5;28;01mimport\u001B[39;00m deprecate_func\n",
      "File \u001B[0;32m~/repos/NNBP/venv/lib/python3.9/site-packages/qiskit/opflow/state_fns/circuit_state_fn.py:20\u001B[0m\n\u001B[1;32m     16\u001B[0m \u001B[38;5;28;01mfrom\u001B[39;00m \u001B[38;5;21;01mtyping\u001B[39;00m \u001B[38;5;28;01mimport\u001B[39;00m Dict, List, Optional, Set, Union, cast\n\u001B[1;32m     18\u001B[0m \u001B[38;5;28;01mimport\u001B[39;00m \u001B[38;5;21;01mnumpy\u001B[39;00m \u001B[38;5;28;01mas\u001B[39;00m \u001B[38;5;21;01mnp\u001B[39;00m\n\u001B[0;32m---> 20\u001B[0m \u001B[38;5;28;01mfrom\u001B[39;00m \u001B[38;5;21;01mqiskit\u001B[39;00m \u001B[38;5;28;01mimport\u001B[39;00m BasicAer, ClassicalRegister, QuantumCircuit, transpile\n\u001B[1;32m     21\u001B[0m \u001B[38;5;28;01mfrom\u001B[39;00m \u001B[38;5;21;01mqiskit\u001B[39;00m\u001B[38;5;21;01m.\u001B[39;00m\u001B[38;5;21;01mcircuit\u001B[39;00m \u001B[38;5;28;01mimport\u001B[39;00m Instruction, ParameterExpression\n\u001B[1;32m     22\u001B[0m \u001B[38;5;28;01mfrom\u001B[39;00m \u001B[38;5;21;01mqiskit\u001B[39;00m\u001B[38;5;21;01m.\u001B[39;00m\u001B[38;5;21;01mcircuit\u001B[39;00m\u001B[38;5;21;01m.\u001B[39;00m\u001B[38;5;21;01mexceptions\u001B[39;00m \u001B[38;5;28;01mimport\u001B[39;00m CircuitError\n",
      "\u001B[0;31mImportError\u001B[0m: cannot import name 'BasicAer' from 'qiskit' (/Users/khen/repos/NNBP/venv/lib/python3.9/site-packages/qiskit/__init__.py)"
     ]
    }
   ],
   "source": [
    "from qubap.qiskit.hamiltonians import test_hamiltonian\n",
    "from qubap.qiskit.variational_algorithms import classical_solver"
   ]
  },
  {
   "cell_type": "markdown",
   "metadata": {},
   "source": [
    "In this tutorial we are going to implement a VQE with all the features of our module, that is, an pretrained adiabatic VQE with State Efficient Ansatz. We will use the following 10-qubits hamiltonian "
   ]
  },
  {
   "cell_type": "code",
   "execution_count": null,
   "metadata": {
    "ExecuteTime": {
     "end_time": "2024-12-03T08:20:49.088301Z",
     "start_time": "2024-12-03T08:20:49.086994Z"
    }
   },
   "outputs": [],
   "source": [
    "num_qubits = 10\n",
    "H = test_hamiltonian( num_qubits )\n",
    "print(H)"
   ]
  },
  {
   "cell_type": "code",
   "execution_count": null,
   "metadata": {
    "ExecuteTime": {
     "end_time": "2024-12-03T08:20:49.088487Z",
     "start_time": "2024-12-03T08:20:49.088431Z"
    }
   },
   "outputs": [],
   "source": [
    "exact_min_energy = classical_solver(H).eigenvalue\n",
    "exact_min_energy"
   ]
  },
  {
   "cell_type": "markdown",
   "metadata": {},
   "source": [
    "First we are going to do a standard VQE with `EfficientSU2` with a single layer of entangling gates as parametric circuit."
   ]
  },
  {
   "cell_type": "code",
   "execution_count": null,
   "metadata": {
    "ExecuteTime": {
     "start_time": "2024-12-03T08:20:49.089846Z"
    }
   },
   "outputs": [],
   "source": [
    "from qiskit.circuit.library import EfficientSU2\n",
    "from qubap.qiskit.variational_algorithms import VQE, energy_evaluation \n",
    "from qiskit_aer import AerSimulator"
   ]
  },
  {
   "cell_type": "code",
   "execution_count": null,
   "metadata": {
    "ExecuteTime": {
     "start_time": "2024-12-03T08:20:49.090885Z"
    }
   },
   "outputs": [],
   "source": [
    "num_reps = 1\n",
    "ansatz = EfficientSU2( num_qubits, ['ry','rz'], 'circular', num_reps).decompose()"
   ]
  },
  {
   "cell_type": "markdown",
   "metadata": {},
   "source": [
    "We start the search from a random point."
   ]
  },
  {
   "cell_type": "code",
   "execution_count": null,
   "metadata": {
    "ExecuteTime": {
     "start_time": "2024-12-03T08:20:49.092160Z"
    }
   },
   "outputs": [],
   "source": [
    "np.random.seed(102)\n",
    "initial_guess = np.random.randn( ansatz.num_parameters )*np.pi\n",
    "num_iters     = 300\n",
    "backend       = AerSimulator( shots=2**8 )"
   ]
  },
  {
   "cell_type": "code",
   "execution_count": null,
   "metadata": {
    "ExecuteTime": {
     "start_time": "2024-12-03T08:20:49.093252Z"
    }
   },
   "outputs": [],
   "source": [
    "results_vqe = VQE( H, ansatz, initial_guess, num_iters, backend )\n",
    "analitic_results_vqe = [ energy_evaluation( H, ansatz, x, AerSimulator(method='statevector') ) for x in results_vqe['x'] ]"
   ]
  },
  {
   "cell_type": "markdown",
   "metadata": {},
   "source": [
    "We obtain the following results. Clearly, this problem exhibits a barren plateau.  "
   ]
  },
  {
   "cell_type": "code",
   "execution_count": null,
   "metadata": {
    "ExecuteTime": {
     "start_time": "2024-12-03T08:20:49.094559Z"
    }
   },
   "outputs": [],
   "source": [
    "plt.plot( analitic_results_vqe )"
   ]
  },
  {
   "cell_type": "markdown",
   "metadata": {},
   "source": [
    "Now, we create the local Hamiltonian."
   ]
  },
  {
   "cell_type": "code",
   "execution_count": null,
   "metadata": {
    "ExecuteTime": {
     "start_time": "2024-12-03T08:20:49.095865Z"
    }
   },
   "outputs": [],
   "source": [
    "from qubap.qiskit.cost_function_barren_plateau import global2local"
   ]
  },
  {
   "cell_type": "code",
   "execution_count": null,
   "metadata": {
    "ExecuteTime": {
     "start_time": "2024-12-03T08:20:49.096901Z"
    }
   },
   "outputs": [],
   "source": [
    "H_local = global2local( H )\n",
    "print( H_local )"
   ]
  },
  {
   "cell_type": "markdown",
   "metadata": {},
   "source": [
    "Next, perform the pretraining with matrix product states."
   ]
  },
  {
   "cell_type": "code",
   "execution_count": null,
   "metadata": {
    "ExecuteTime": {
     "start_time": "2024-12-03T08:20:49.098013Z"
    }
   },
   "outputs": [],
   "source": [
    "from qubap.qiskit.mps_pretraining import Ansatz, VQE_pretrain"
   ]
  },
  {
   "cell_type": "code",
   "execution_count": null,
   "metadata": {
    "ExecuteTime": {
     "start_time": "2024-12-03T08:20:49.099111Z"
    }
   },
   "outputs": [],
   "source": [
    "ansatz_mps = Ansatz( num_qubits, diagonal=True )"
   ]
  },
  {
   "cell_type": "code",
   "execution_count": null,
   "metadata": {
    "ExecuteTime": {
     "start_time": "2024-12-03T08:20:49.100224Z"
    }
   },
   "outputs": [],
   "source": [
    "num_iters_train = 300\n",
    "results_pretrain = VQE_pretrain( H, num_iters_train )"
   ]
  },
  {
   "cell_type": "markdown",
   "metadata": {},
   "source": [
    "Finally, we construct the state-efficient ansatz. Notice that we compose the state-efficient ansatz with the optimal MPS ansatz in order to start the optimization from the pretraining. "
   ]
  },
  {
   "cell_type": "code",
   "execution_count": null,
   "metadata": {
    "ExecuteTime": {
     "start_time": "2024-12-03T08:20:49.100968Z"
    }
   },
   "outputs": [],
   "source": [
    "from qubap.qiskit.state_efficient_ansatz import ansatz_constructor \n",
    "num_reps_sea = 1\n",
    "ansatz_sea   = ansatz_constructor( num_qubits, deep=[num_reps_sea,num_reps_sea,num_reps_sea]).decompose()\n",
    "ansatz_sea.draw( 'mpl', fold=-1 )"
   ]
  },
  {
   "cell_type": "code",
   "execution_count": null,
   "metadata": {
    "ExecuteTime": {
     "start_time": "2024-12-03T08:20:49.101705Z"
    }
   },
   "outputs": [],
   "source": [
    "ansatz_sea_mps = ansatz_sea.compose( ansatz_mps.bind_parameters(results_pretrain['x'][-1]) ).decompose()\n",
    "ansatz_sea_mps.draw( 'mpl', fold=-1 )"
   ]
  },
  {
   "cell_type": "markdown",
   "metadata": {},
   "source": [
    "Executing the adiabatic VQE."
   ]
  },
  {
   "cell_type": "code",
   "execution_count": null,
   "metadata": {
    "ExecuteTime": {
     "start_time": "2024-12-03T08:20:49.102502Z"
    }
   },
   "outputs": [],
   "source": [
    "from qubap.qiskit.variational_algorithms import VQE_adiabatic"
   ]
  },
  {
   "cell_type": "code",
   "execution_count": null,
   "metadata": {
    "ExecuteTime": {
     "start_time": "2024-12-03T08:20:49.103420Z"
    }
   },
   "outputs": [],
   "source": [
    "initial_guess = np.zeros( ansatz_sea_mps.num_parameters ) + 0.01\n",
    "results_adiabatic = VQE_adiabatic( H_local, H, ansatz_sea_mps, initial_guess, num_iters, backend )"
   ]
  },
  {
   "cell_type": "code",
   "execution_count": null,
   "metadata": {
    "ExecuteTime": {
     "start_time": "2024-12-03T08:20:49.104284Z"
    }
   },
   "outputs": [],
   "source": [
    "analitic_results_adiabatic   = [ energy_evaluation( H, ansatz_sea_mps, x, AerSimulator(method='statevector') ) for x in results_adiabatic['x'] ]"
   ]
  },
  {
   "cell_type": "markdown",
   "metadata": {},
   "source": [
    "We can see that the combined routine is able of outperformed the barren plateau."
   ]
  },
  {
   "cell_type": "code",
   "execution_count": null,
   "metadata": {
    "ExecuteTime": {
     "start_time": "2024-12-03T08:20:49.105059Z"
    }
   },
   "outputs": [],
   "source": [
    "plt.plot( analitic_results_vqe )\n",
    "plt.plot( analitic_results_adiabatic )\n",
    "plt.legend(['Standard VQE', 'Combined method'])"
   ]
  },
  {
   "cell_type": "code",
   "execution_count": null,
   "metadata": {
    "ExecuteTime": {
     "start_time": "2024-12-03T08:20:49.105938Z"
    }
   },
   "outputs": [],
   "source": [
    "import qiskit.tools.jupyter\n",
    "%qiskit_version_table"
   ]
  },
  {
   "cell_type": "code",
   "execution_count": null,
   "metadata": {
    "ExecuteTime": {
     "start_time": "2024-12-03T08:20:49.106901Z"
    }
   },
   "outputs": [],
   "source": []
  }
 ],
 "metadata": {
  "kernelspec": {
   "display_name": "Python 3.9.16 ('base')",
   "language": "python",
   "name": "python3"
  },
  "language_info": {
   "codemirror_mode": {
    "name": "ipython",
    "version": 3
   },
   "file_extension": ".py",
   "mimetype": "text/x-python",
   "name": "python",
   "nbconvert_exporter": "python",
   "pygments_lexer": "ipython3",
   "version": "3.9.16"
  },
  "orig_nbformat": 4,
  "vscode": {
   "interpreter": {
    "hash": "cda8d9f3af62c123a40166c789fd00a9f9e68094ffd9b43f4f632544febced4e"
   }
  }
 },
 "nbformat": 4,
 "nbformat_minor": 2
}
